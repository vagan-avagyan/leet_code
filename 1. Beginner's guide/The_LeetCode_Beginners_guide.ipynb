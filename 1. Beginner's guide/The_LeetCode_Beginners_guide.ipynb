{
 "cells": [
  {
   "cell_type": "markdown",
   "id": "384d4756",
   "metadata": {},
   "source": [
    "# The LeetCode Beginner's Guide"
   ]
  },
  {
   "cell_type": "markdown",
   "id": "2a19c4ac",
   "metadata": {},
   "source": [
    "**2235. Add Two Integers**\n",
    "\n",
    "Given two integers num1 and num2, return the sum of the two integers.\n",
    " \n",
    "\n",
    "Example 1:\n",
    "- Input: num1 = 12, num2 = 5\n",
    "- Output: 17\n",
    "- Explanation: num1 is 12, num2 is 5, and their sum is 12 + 5 = 17, so 17 is returned.\n",
    "\n",
    "\n",
    "Example 2:\n",
    "\n",
    "- Input: num1 = -10, num2 = 4\n",
    "- Output: -6\n",
    "- Explanation: num1 + num2 = -6, so -6 is returned.\n",
    " \n",
    "\n",
    "Constraints:\n",
    "-100 <= num1, num2 <= 100"
   ]
  },
  {
   "cell_type": "code",
   "execution_count": 8,
   "id": "25fa94a8",
   "metadata": {},
   "outputs": [],
   "source": [
    "class Solution(object):\n",
    "    def sum(self, num1, num2):\n",
    "        \"\"\"\n",
    "        :type num1: int\n",
    "        :type num2: int\n",
    "        :rtype: int\n",
    "        \"\"\"\n",
    "        return num1 + num2"
   ]
  },
  {
   "cell_type": "code",
   "execution_count": null,
   "id": "c7be373f",
   "metadata": {},
   "outputs": [
    {
     "name": "stdout",
     "output_type": "stream",
     "text": [
      "22\n"
     ]
    }
   ],
   "source": [
    "solution = Solution()\n",
    "\n",
    "result = solution.sum(17, 5)\n",
    "print(result)"
   ]
  },
  {
   "cell_type": "markdown",
   "id": "9ce49fc0",
   "metadata": {},
   "source": [
    "**2236. Root Equals Sum of Children**\n",
    "\n",
    "https://leetcode.com/problems/root-equals-sum-of-children/description/\n",
    "\n",
    "You are given the `root` of a binary tree that consists of exactly `3` nodes: the root, its left child, and its right child.\n",
    "\n",
    "Return `true` if the value of the root is equal to the sum of the values of its two children, or `false` otherwise.\n",
    "\n",
    "Input: root = [10,4,6] \\\n",
    "Output: true \\\n",
    "Explanation: The values of the root, its left child, and its right child are 10, 4, and 6, respectively.\n",
    "10 is equal to 4 + 6, so we return true."
   ]
  },
  {
   "cell_type": "code",
   "execution_count": 2,
   "id": "69f6f404",
   "metadata": {},
   "outputs": [],
   "source": [
    "class TreeNode(object):\n",
    "    def __init__(self, val=0, left=None, right=None):\n",
    "        self.val = val\n",
    "        self.left = left\n",
    "        self.right = right\n",
    "\n",
    "class Solution(object):\n",
    "    def checkTree(self, root):\n",
    "        \"\"\"\n",
    "        :type root: Optional[TreeNode]\n",
    "        :rtype: bool\n",
    "        \"\"\"\n",
    "        return root.val==root.left.val+root.right.val\n",
    "        "
   ]
  },
  {
   "cell_type": "code",
   "execution_count": 7,
   "id": "73403eaa",
   "metadata": {},
   "outputs": [
    {
     "name": "stdout",
     "output_type": "stream",
     "text": [
      "True\n"
     ]
    }
   ],
   "source": [
    "# Создаем узлы дерева\n",
    "root = TreeNode(10)\n",
    "root.left = TreeNode(4)\n",
    "root.right = TreeNode(6)\n",
    "\n",
    "# Создаем экземпляр Solution и вызываем метод\n",
    "solution = Solution()\n",
    "result = solution.checkTree(root)\n",
    "print(result)  # Выведет: True (потому что 10 == 4 + 6)"
   ]
  },
  {
   "cell_type": "code",
   "execution_count": 6,
   "id": "c9335b02",
   "metadata": {},
   "outputs": [
    {
     "data": {
      "text/plain": [
       "<__main__.TreeNode at 0x105b57250>"
      ]
     },
     "execution_count": 6,
     "metadata": {},
     "output_type": "execute_result"
    }
   ],
   "source": [
    "root"
   ]
  },
  {
   "cell_type": "code",
   "execution_count": null,
   "id": "87e6bd45",
   "metadata": {},
   "outputs": [],
   "source": []
  },
  {
   "cell_type": "code",
   "execution_count": null,
   "id": "f2b3473f",
   "metadata": {},
   "outputs": [],
   "source": []
  }
 ],
 "metadata": {
  "kernelspec": {
   "display_name": "Python 3",
   "language": "python",
   "name": "python3"
  },
  "language_info": {
   "codemirror_mode": {
    "name": "ipython",
    "version": 3
   },
   "file_extension": ".py",
   "mimetype": "text/x-python",
   "name": "python",
   "nbconvert_exporter": "python",
   "pygments_lexer": "ipython3",
   "version": "3.13.2"
  }
 },
 "nbformat": 4,
 "nbformat_minor": 5
}
